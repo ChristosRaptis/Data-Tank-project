{
 "cells": [
  {
   "cell_type": "code",
   "execution_count": 74,
   "metadata": {},
   "outputs": [],
   "source": [
    "import pandas as pd\n",
    "import requests\n",
    "from bs4 import BeautifulSoup as bs\n",
    "import json\n",
    "import ssl\n",
    "ssl._create_default_https_context = ssl._create_unverified_context"
   ]
  },
  {
   "attachments": {},
   "cell_type": "markdown",
   "metadata": {},
   "source": [
    "#### Fetch xml sitemap"
   ]
  },
  {
   "cell_type": "code",
   "execution_count": 75,
   "metadata": {},
   "outputs": [
    {
     "data": {
      "text/html": [
       "<div>\n",
       "<style scoped>\n",
       "    .dataframe tbody tr th:only-of-type {\n",
       "        vertical-align: middle;\n",
       "    }\n",
       "\n",
       "    .dataframe tbody tr th {\n",
       "        vertical-align: top;\n",
       "    }\n",
       "\n",
       "    .dataframe thead th {\n",
       "        text-align: right;\n",
       "    }\n",
       "</style>\n",
       "<table border=\"1\" class=\"dataframe\">\n",
       "  <thead>\n",
       "    <tr style=\"text-align: right;\">\n",
       "      <th></th>\n",
       "      <th>loc</th>\n",
       "      <th>lastmod</th>\n",
       "      <th>changefreq</th>\n",
       "      <th>news</th>\n",
       "      <th>image</th>\n",
       "    </tr>\n",
       "  </thead>\n",
       "  <tbody>\n",
       "    <tr>\n",
       "      <th>0</th>\n",
       "      <td>https://www.rtbf.be/article/direct-video-vietn...</td>\n",
       "      <td>2023-08-01T08:42:27.000Z</td>\n",
       "      <td>hourly</td>\n",
       "      <td>NaN</td>\n",
       "      <td>NaN</td>\n",
       "    </tr>\n",
       "    <tr>\n",
       "      <th>1</th>\n",
       "      <td>https://www.rtbf.be/article/couvin-un-nouveau-...</td>\n",
       "      <td>2023-08-01T08:36:40.000Z</td>\n",
       "      <td>hourly</td>\n",
       "      <td>NaN</td>\n",
       "      <td>NaN</td>\n",
       "    </tr>\n",
       "    <tr>\n",
       "      <th>2</th>\n",
       "      <td>https://www.rtbf.be/article/niger-la-france-va...</td>\n",
       "      <td>2023-08-01T08:29:48.000Z</td>\n",
       "      <td>hourly</td>\n",
       "      <td>NaN</td>\n",
       "      <td>NaN</td>\n",
       "    </tr>\n",
       "    <tr>\n",
       "      <th>3</th>\n",
       "      <td>https://www.rtbf.be/article/entre-douceur-et-d...</td>\n",
       "      <td>2023-08-01T08:27:08.000Z</td>\n",
       "      <td>hourly</td>\n",
       "      <td>NaN</td>\n",
       "      <td>NaN</td>\n",
       "    </tr>\n",
       "    <tr>\n",
       "      <th>4</th>\n",
       "      <td>https://www.rtbf.be/article/putsch-au-niger-l-...</td>\n",
       "      <td>2023-08-01T08:27:05.000Z</td>\n",
       "      <td>hourly</td>\n",
       "      <td>NaN</td>\n",
       "      <td>NaN</td>\n",
       "    </tr>\n",
       "  </tbody>\n",
       "</table>\n",
       "</div>"
      ],
      "text/plain": [
       "                                                 loc  \\\n",
       "0  https://www.rtbf.be/article/direct-video-vietn...   \n",
       "1  https://www.rtbf.be/article/couvin-un-nouveau-...   \n",
       "2  https://www.rtbf.be/article/niger-la-france-va...   \n",
       "3  https://www.rtbf.be/article/entre-douceur-et-d...   \n",
       "4  https://www.rtbf.be/article/putsch-au-niger-l-...   \n",
       "\n",
       "                    lastmod changefreq  news  image  \n",
       "0  2023-08-01T08:42:27.000Z     hourly   NaN    NaN  \n",
       "1  2023-08-01T08:36:40.000Z     hourly   NaN    NaN  \n",
       "2  2023-08-01T08:29:48.000Z     hourly   NaN    NaN  \n",
       "3  2023-08-01T08:27:08.000Z     hourly   NaN    NaN  \n",
       "4  2023-08-01T08:27:05.000Z     hourly   NaN    NaN  "
      ]
     },
     "execution_count": 75,
     "metadata": {},
     "output_type": "execute_result"
    }
   ],
   "source": [
    "sitemap = pd.read_xml('https://www.rtbf.be/site-map/articles.xml')\n",
    "sitemap.head()"
   ]
  },
  {
   "attachments": {},
   "cell_type": "markdown",
   "metadata": {},
   "source": [
    "#### Keep only two first columns and change their name"
   ]
  },
  {
   "cell_type": "code",
   "execution_count": 76,
   "metadata": {},
   "outputs": [
    {
     "data": {
      "text/html": [
       "<div>\n",
       "<style scoped>\n",
       "    .dataframe tbody tr th:only-of-type {\n",
       "        vertical-align: middle;\n",
       "    }\n",
       "\n",
       "    .dataframe tbody tr th {\n",
       "        vertical-align: top;\n",
       "    }\n",
       "\n",
       "    .dataframe thead th {\n",
       "        text-align: right;\n",
       "    }\n",
       "</style>\n",
       "<table border=\"1\" class=\"dataframe\">\n",
       "  <thead>\n",
       "    <tr style=\"text-align: right;\">\n",
       "      <th></th>\n",
       "      <th>source_url</th>\n",
       "      <th>last_modified_date</th>\n",
       "    </tr>\n",
       "  </thead>\n",
       "  <tbody>\n",
       "    <tr>\n",
       "      <th>0</th>\n",
       "      <td>https://www.rtbf.be/article/direct-video-vietn...</td>\n",
       "      <td>2023-08-01T08:42:27.000Z</td>\n",
       "    </tr>\n",
       "    <tr>\n",
       "      <th>1</th>\n",
       "      <td>https://www.rtbf.be/article/couvin-un-nouveau-...</td>\n",
       "      <td>2023-08-01T08:36:40.000Z</td>\n",
       "    </tr>\n",
       "    <tr>\n",
       "      <th>2</th>\n",
       "      <td>https://www.rtbf.be/article/niger-la-france-va...</td>\n",
       "      <td>2023-08-01T08:29:48.000Z</td>\n",
       "    </tr>\n",
       "    <tr>\n",
       "      <th>3</th>\n",
       "      <td>https://www.rtbf.be/article/entre-douceur-et-d...</td>\n",
       "      <td>2023-08-01T08:27:08.000Z</td>\n",
       "    </tr>\n",
       "    <tr>\n",
       "      <th>4</th>\n",
       "      <td>https://www.rtbf.be/article/putsch-au-niger-l-...</td>\n",
       "      <td>2023-08-01T08:27:05.000Z</td>\n",
       "    </tr>\n",
       "  </tbody>\n",
       "</table>\n",
       "</div>"
      ],
      "text/plain": [
       "                                          source_url        last_modified_date\n",
       "0  https://www.rtbf.be/article/direct-video-vietn...  2023-08-01T08:42:27.000Z\n",
       "1  https://www.rtbf.be/article/couvin-un-nouveau-...  2023-08-01T08:36:40.000Z\n",
       "2  https://www.rtbf.be/article/niger-la-france-va...  2023-08-01T08:29:48.000Z\n",
       "3  https://www.rtbf.be/article/entre-douceur-et-d...  2023-08-01T08:27:08.000Z\n",
       "4  https://www.rtbf.be/article/putsch-au-niger-l-...  2023-08-01T08:27:05.000Z"
      ]
     },
     "execution_count": 76,
     "metadata": {},
     "output_type": "execute_result"
    }
   ],
   "source": [
    "df = sitemap.drop(['changefreq', 'news', 'image'],axis=1)\n",
    "df.rename(columns={'loc':'source_url', 'lastmod':'last_modified_date'}, inplace=True)\n",
    "df.head()"
   ]
  },
  {
   "attachments": {},
   "cell_type": "markdown",
   "metadata": {},
   "source": [
    "#### Keep only date in 'last_modified_date' column"
   ]
  },
  {
   "cell_type": "code",
   "execution_count": 77,
   "metadata": {},
   "outputs": [
    {
     "data": {
      "text/html": [
       "<div>\n",
       "<style scoped>\n",
       "    .dataframe tbody tr th:only-of-type {\n",
       "        vertical-align: middle;\n",
       "    }\n",
       "\n",
       "    .dataframe tbody tr th {\n",
       "        vertical-align: top;\n",
       "    }\n",
       "\n",
       "    .dataframe thead th {\n",
       "        text-align: right;\n",
       "    }\n",
       "</style>\n",
       "<table border=\"1\" class=\"dataframe\">\n",
       "  <thead>\n",
       "    <tr style=\"text-align: right;\">\n",
       "      <th></th>\n",
       "      <th>source_url</th>\n",
       "      <th>last_modified_date</th>\n",
       "    </tr>\n",
       "  </thead>\n",
       "  <tbody>\n",
       "    <tr>\n",
       "      <th>0</th>\n",
       "      <td>https://www.rtbf.be/article/direct-video-vietn...</td>\n",
       "      <td>2023-08-01</td>\n",
       "    </tr>\n",
       "    <tr>\n",
       "      <th>1</th>\n",
       "      <td>https://www.rtbf.be/article/couvin-un-nouveau-...</td>\n",
       "      <td>2023-08-01</td>\n",
       "    </tr>\n",
       "    <tr>\n",
       "      <th>2</th>\n",
       "      <td>https://www.rtbf.be/article/niger-la-france-va...</td>\n",
       "      <td>2023-08-01</td>\n",
       "    </tr>\n",
       "    <tr>\n",
       "      <th>3</th>\n",
       "      <td>https://www.rtbf.be/article/entre-douceur-et-d...</td>\n",
       "      <td>2023-08-01</td>\n",
       "    </tr>\n",
       "    <tr>\n",
       "      <th>4</th>\n",
       "      <td>https://www.rtbf.be/article/putsch-au-niger-l-...</td>\n",
       "      <td>2023-08-01</td>\n",
       "    </tr>\n",
       "  </tbody>\n",
       "</table>\n",
       "</div>"
      ],
      "text/plain": [
       "                                          source_url last_modified_date\n",
       "0  https://www.rtbf.be/article/direct-video-vietn...         2023-08-01\n",
       "1  https://www.rtbf.be/article/couvin-un-nouveau-...         2023-08-01\n",
       "2  https://www.rtbf.be/article/niger-la-france-va...         2023-08-01\n",
       "3  https://www.rtbf.be/article/entre-douceur-et-d...         2023-08-01\n",
       "4  https://www.rtbf.be/article/putsch-au-niger-l-...         2023-08-01"
      ]
     },
     "execution_count": 77,
     "metadata": {},
     "output_type": "execute_result"
    }
   ],
   "source": [
    "df['last_modified_date'].replace({r\"T.+\": ''}, inplace=True, regex=True)\n",
    "df.head()"
   ]
  },
  {
   "cell_type": "markdown",
   "metadata": {},
   "source": [
    "#### Find published date function"
   ]
  },
  {
   "cell_type": "code",
   "execution_count": 97,
   "metadata": {},
   "outputs": [],
   "source": [
    "def find_published_date(url: str) ->str:\n",
    "    response = requests.get(url)\n",
    "    soup = bs(response.content, 'html.parser')\n",
    "    result= soup.find(\"script\", {\"type\": \"application/ld+json\"})\n",
    "    data = json.loads(result.text, strict=False)\n",
    "    published_date = data['datePublished']\n",
    "    return published_date"
   ]
  },
  {
   "cell_type": "code",
   "execution_count": 98,
   "metadata": {},
   "outputs": [
    {
     "name": "stdout",
     "output_type": "stream",
     "text": [
      "2023-07-18T10:29:32+02:00\n"
     ]
    }
   ],
   "source": [
    "print(find_published_date(article_one))"
   ]
  },
  {
   "attachments": {},
   "cell_type": "markdown",
   "metadata": {},
   "source": [
    "#### Find article title function"
   ]
  },
  {
   "cell_type": "code",
   "execution_count": 86,
   "metadata": {},
   "outputs": [],
   "source": [
    "def find_article_title(url:str) -> str: \n",
    "    response = requests.get(url)\n",
    "    soup = bs(response.content, 'html.parser')\n",
    "    article_title = soup.find('h1').text\n",
    "    return article_title"
   ]
  },
  {
   "cell_type": "code",
   "execution_count": 87,
   "metadata": {},
   "outputs": [
    {
     "name": "stdout",
     "output_type": "stream",
     "text": [
      "Coupe du monde féminine de football 2023 : horaires, directs et résultats des 64 matches en Australie et Nouvelle-Zélande\n"
     ]
    }
   ],
   "source": [
    "print(find_article_title(article_one))\n"
   ]
  },
  {
   "attachments": {},
   "cell_type": "markdown",
   "metadata": {},
   "source": [
    "#### Find article text function"
   ]
  },
  {
   "cell_type": "code",
   "execution_count": 89,
   "metadata": {},
   "outputs": [],
   "source": [
    "def find_article_text(url: str) -> str:\n",
    "    response = requests.get(url)\n",
    "    soup = bs(response.content, 'html.parser')\n",
    "    paragraphs = [p.text for p in soup.find_all('p', attrs={'class': None})]\n",
    "    article_text = \" \".join(paragraphs)\n",
    "   \n",
    "    return article_text    "
   ]
  },
  {
   "cell_type": "code",
   "execution_count": 90,
   "metadata": {},
   "outputs": [
    {
     "name": "stdout",
     "output_type": "stream",
     "text": [
      "La neuvième édition de la Coupe du monde féminine bat son plein en Australie et en Nouvelle-Zélande depuis le 20 juillet dernier. Du spectacle, des jolis buts et des surprises, nous avons déjà été gâtés en ce début de Mondial 2023. Un spectacle à suivre en direct vidéo sur la RTBF. Avec une diffusion de toutes les rencontres ! Retrouvez toutes les rencontres, tous les résumés et tous les résultats ci-dessous. Tous les sujets de l'article\n"
     ]
    }
   ],
   "source": [
    "print(find_article_text(article_one))"
   ]
  },
  {
   "cell_type": "markdown",
   "metadata": {},
   "source": [
    "#### Add article_text column to df dataframe"
   ]
  },
  {
   "cell_type": "code",
   "execution_count": 91,
   "metadata": {},
   "outputs": [
    {
     "data": {
      "text/html": [
       "<div>\n",
       "<style scoped>\n",
       "    .dataframe tbody tr th:only-of-type {\n",
       "        vertical-align: middle;\n",
       "    }\n",
       "\n",
       "    .dataframe tbody tr th {\n",
       "        vertical-align: top;\n",
       "    }\n",
       "\n",
       "    .dataframe thead th {\n",
       "        text-align: right;\n",
       "    }\n",
       "</style>\n",
       "<table border=\"1\" class=\"dataframe\">\n",
       "  <thead>\n",
       "    <tr style=\"text-align: right;\">\n",
       "      <th></th>\n",
       "      <th>source_url</th>\n",
       "      <th>last_modified_date</th>\n",
       "      <th>article_text</th>\n",
       "    </tr>\n",
       "  </thead>\n",
       "  <tbody>\n",
       "    <tr>\n",
       "      <th>0</th>\n",
       "      <td>https://www.rtbf.be/article/direct-video-vietn...</td>\n",
       "      <td>2023-08-01</td>\n",
       "      <td>La neuvième édition de la Coupe du monde fémin...</td>\n",
       "    </tr>\n",
       "    <tr>\n",
       "      <th>1</th>\n",
       "      <td>https://www.rtbf.be/article/couvin-un-nouveau-...</td>\n",
       "      <td>2023-08-01</td>\n",
       "      <td>Ce sont que des enfants livrés à eux-mêmes dan...</td>\n",
       "    </tr>\n",
       "    <tr>\n",
       "      <th>2</th>\n",
       "      <td>https://www.rtbf.be/article/niger-la-france-va...</td>\n",
       "      <td>2023-08-01</td>\n",
       "      <td>La France a décidé d’évacuer dès mardi ses res...</td>\n",
       "    </tr>\n",
       "    <tr>\n",
       "      <th>3</th>\n",
       "      <td>https://www.rtbf.be/article/entre-douceur-et-d...</td>\n",
       "      <td>2023-08-01</td>\n",
       "      <td>Tout au long de l’été, nous vous proposons une...</td>\n",
       "    </tr>\n",
       "    <tr>\n",
       "      <th>4</th>\n",
       "      <td>https://www.rtbf.be/article/putsch-au-niger-l-...</td>\n",
       "      <td>2023-08-01</td>\n",
       "      <td>Au Niger, la situation est toujours extrêmemen...</td>\n",
       "    </tr>\n",
       "  </tbody>\n",
       "</table>\n",
       "</div>"
      ],
      "text/plain": [
       "                                          source_url last_modified_date  \\\n",
       "0  https://www.rtbf.be/article/direct-video-vietn...         2023-08-01   \n",
       "1  https://www.rtbf.be/article/couvin-un-nouveau-...         2023-08-01   \n",
       "2  https://www.rtbf.be/article/niger-la-france-va...         2023-08-01   \n",
       "3  https://www.rtbf.be/article/entre-douceur-et-d...         2023-08-01   \n",
       "4  https://www.rtbf.be/article/putsch-au-niger-l-...         2023-08-01   \n",
       "\n",
       "                                        article_text  \n",
       "0  La neuvième édition de la Coupe du monde fémin...  \n",
       "1  Ce sont que des enfants livrés à eux-mêmes dan...  \n",
       "2  La France a décidé d’évacuer dès mardi ses res...  \n",
       "3  Tout au long de l’été, nous vous proposons une...  \n",
       "4  Au Niger, la situation est toujours extrêmemen...  "
      ]
     },
     "execution_count": 91,
     "metadata": {},
     "output_type": "execute_result"
    }
   ],
   "source": [
    "df['article_text'] = df['source_url'].apply(find_article_text)\n",
    "df.head()"
   ]
  },
  {
   "cell_type": "markdown",
   "metadata": {},
   "source": [
    "#### Add article_title to df dataframe"
   ]
  },
  {
   "cell_type": "code",
   "execution_count": 92,
   "metadata": {},
   "outputs": [
    {
     "data": {
      "text/html": [
       "<div>\n",
       "<style scoped>\n",
       "    .dataframe tbody tr th:only-of-type {\n",
       "        vertical-align: middle;\n",
       "    }\n",
       "\n",
       "    .dataframe tbody tr th {\n",
       "        vertical-align: top;\n",
       "    }\n",
       "\n",
       "    .dataframe thead th {\n",
       "        text-align: right;\n",
       "    }\n",
       "</style>\n",
       "<table border=\"1\" class=\"dataframe\">\n",
       "  <thead>\n",
       "    <tr style=\"text-align: right;\">\n",
       "      <th></th>\n",
       "      <th>source_url</th>\n",
       "      <th>last_modified_date</th>\n",
       "      <th>article_text</th>\n",
       "      <th>article_title</th>\n",
       "    </tr>\n",
       "  </thead>\n",
       "  <tbody>\n",
       "    <tr>\n",
       "      <th>0</th>\n",
       "      <td>https://www.rtbf.be/article/direct-video-vietn...</td>\n",
       "      <td>2023-08-01</td>\n",
       "      <td>La neuvième édition de la Coupe du monde fémin...</td>\n",
       "      <td>Coupe du monde féminine de football 2023 : hor...</td>\n",
       "    </tr>\n",
       "    <tr>\n",
       "      <th>1</th>\n",
       "      <td>https://www.rtbf.be/article/couvin-un-nouveau-...</td>\n",
       "      <td>2023-08-01</td>\n",
       "      <td>Ce sont que des enfants livrés à eux-mêmes dan...</td>\n",
       "      <td>Couvin: un nouveau centre ouvre ses portes aux...</td>\n",
       "    </tr>\n",
       "    <tr>\n",
       "      <th>2</th>\n",
       "      <td>https://www.rtbf.be/article/niger-la-france-va...</td>\n",
       "      <td>2023-08-01</td>\n",
       "      <td>La France a décidé d’évacuer dès mardi ses res...</td>\n",
       "      <td>Niger : la France va débuter l’évacuation de s...</td>\n",
       "    </tr>\n",
       "    <tr>\n",
       "      <th>3</th>\n",
       "      <td>https://www.rtbf.be/article/entre-douceur-et-d...</td>\n",
       "      <td>2023-08-01</td>\n",
       "      <td>Tout au long de l’été, nous vous proposons une...</td>\n",
       "      <td>Entre douceur et douleur, une playlist qui piq...</td>\n",
       "    </tr>\n",
       "    <tr>\n",
       "      <th>4</th>\n",
       "      <td>https://www.rtbf.be/article/putsch-au-niger-l-...</td>\n",
       "      <td>2023-08-01</td>\n",
       "      <td>Au Niger, la situation est toujours extrêmemen...</td>\n",
       "      <td>Putsch au Niger : \"L’échec de l’opération Bark...</td>\n",
       "    </tr>\n",
       "  </tbody>\n",
       "</table>\n",
       "</div>"
      ],
      "text/plain": [
       "                                          source_url last_modified_date  \\\n",
       "0  https://www.rtbf.be/article/direct-video-vietn...         2023-08-01   \n",
       "1  https://www.rtbf.be/article/couvin-un-nouveau-...         2023-08-01   \n",
       "2  https://www.rtbf.be/article/niger-la-france-va...         2023-08-01   \n",
       "3  https://www.rtbf.be/article/entre-douceur-et-d...         2023-08-01   \n",
       "4  https://www.rtbf.be/article/putsch-au-niger-l-...         2023-08-01   \n",
       "\n",
       "                                        article_text  \\\n",
       "0  La neuvième édition de la Coupe du monde fémin...   \n",
       "1  Ce sont que des enfants livrés à eux-mêmes dan...   \n",
       "2  La France a décidé d’évacuer dès mardi ses res...   \n",
       "3  Tout au long de l’été, nous vous proposons une...   \n",
       "4  Au Niger, la situation est toujours extrêmemen...   \n",
       "\n",
       "                                       article_title  \n",
       "0  Coupe du monde féminine de football 2023 : hor...  \n",
       "1  Couvin: un nouveau centre ouvre ses portes aux...  \n",
       "2  Niger : la France va débuter l’évacuation de s...  \n",
       "3  Entre douceur et douleur, une playlist qui piq...  \n",
       "4  Putsch au Niger : \"L’échec de l’opération Bark...  "
      ]
     },
     "execution_count": 92,
     "metadata": {},
     "output_type": "execute_result"
    }
   ],
   "source": [
    "df['article_title'] = df['source_url'].apply(find_article_title)\n",
    "df.head()"
   ]
  },
  {
   "cell_type": "markdown",
   "metadata": {},
   "source": [
    "#### Add published_date column to df dataframe"
   ]
  },
  {
   "cell_type": "code",
   "execution_count": 99,
   "metadata": {},
   "outputs": [],
   "source": [
    "df['published_date'] = df['source_url'].apply(find_published_date)"
   ]
  },
  {
   "cell_type": "code",
   "execution_count": 100,
   "metadata": {},
   "outputs": [
    {
     "data": {
      "text/html": [
       "<div>\n",
       "<style scoped>\n",
       "    .dataframe tbody tr th:only-of-type {\n",
       "        vertical-align: middle;\n",
       "    }\n",
       "\n",
       "    .dataframe tbody tr th {\n",
       "        vertical-align: top;\n",
       "    }\n",
       "\n",
       "    .dataframe thead th {\n",
       "        text-align: right;\n",
       "    }\n",
       "</style>\n",
       "<table border=\"1\" class=\"dataframe\">\n",
       "  <thead>\n",
       "    <tr style=\"text-align: right;\">\n",
       "      <th></th>\n",
       "      <th>source_url</th>\n",
       "      <th>last_modified_date</th>\n",
       "      <th>article_text</th>\n",
       "      <th>article_title</th>\n",
       "      <th>published_date</th>\n",
       "    </tr>\n",
       "  </thead>\n",
       "  <tbody>\n",
       "    <tr>\n",
       "      <th>0</th>\n",
       "      <td>https://www.rtbf.be/article/direct-video-vietn...</td>\n",
       "      <td>2023-08-01</td>\n",
       "      <td>La neuvième édition de la Coupe du monde fémin...</td>\n",
       "      <td>Coupe du monde féminine de football 2023 : hor...</td>\n",
       "      <td>2023-07-18T10:29:32+02:00</td>\n",
       "    </tr>\n",
       "    <tr>\n",
       "      <th>1</th>\n",
       "      <td>https://www.rtbf.be/article/couvin-un-nouveau-...</td>\n",
       "      <td>2023-08-01</td>\n",
       "      <td>Ce sont que des enfants livrés à eux-mêmes dan...</td>\n",
       "      <td>Couvin: un nouveau centre ouvre ses portes aux...</td>\n",
       "      <td>2023-08-01T10:36:40+02:00</td>\n",
       "    </tr>\n",
       "    <tr>\n",
       "      <th>2</th>\n",
       "      <td>https://www.rtbf.be/article/niger-la-france-va...</td>\n",
       "      <td>2023-08-01</td>\n",
       "      <td>La France a décidé d’évacuer dès mardi ses res...</td>\n",
       "      <td>Niger : la France va débuter l’évacuation de s...</td>\n",
       "      <td>2023-08-01T10:29:48+02:00</td>\n",
       "    </tr>\n",
       "    <tr>\n",
       "      <th>3</th>\n",
       "      <td>https://www.rtbf.be/article/entre-douceur-et-d...</td>\n",
       "      <td>2023-08-01</td>\n",
       "      <td>Tout au long de l’été, nous vous proposons une...</td>\n",
       "      <td>Entre douceur et douleur, une playlist qui piq...</td>\n",
       "      <td>2023-08-01T10:27:08+02:00</td>\n",
       "    </tr>\n",
       "    <tr>\n",
       "      <th>4</th>\n",
       "      <td>https://www.rtbf.be/article/putsch-au-niger-l-...</td>\n",
       "      <td>2023-08-01</td>\n",
       "      <td>Au Niger, la situation est toujours extrêmemen...</td>\n",
       "      <td>Putsch au Niger : \"L’échec de l’opération Bark...</td>\n",
       "      <td>2023-08-01T10:27:05+02:00</td>\n",
       "    </tr>\n",
       "  </tbody>\n",
       "</table>\n",
       "</div>"
      ],
      "text/plain": [
       "                                          source_url last_modified_date  \\\n",
       "0  https://www.rtbf.be/article/direct-video-vietn...         2023-08-01   \n",
       "1  https://www.rtbf.be/article/couvin-un-nouveau-...         2023-08-01   \n",
       "2  https://www.rtbf.be/article/niger-la-france-va...         2023-08-01   \n",
       "3  https://www.rtbf.be/article/entre-douceur-et-d...         2023-08-01   \n",
       "4  https://www.rtbf.be/article/putsch-au-niger-l-...         2023-08-01   \n",
       "\n",
       "                                        article_text  \\\n",
       "0  La neuvième édition de la Coupe du monde fémin...   \n",
       "1  Ce sont que des enfants livrés à eux-mêmes dan...   \n",
       "2  La France a décidé d’évacuer dès mardi ses res...   \n",
       "3  Tout au long de l’été, nous vous proposons une...   \n",
       "4  Au Niger, la situation est toujours extrêmemen...   \n",
       "\n",
       "                                       article_title  \\\n",
       "0  Coupe du monde féminine de football 2023 : hor...   \n",
       "1  Couvin: un nouveau centre ouvre ses portes aux...   \n",
       "2  Niger : la France va débuter l’évacuation de s...   \n",
       "3  Entre douceur et douleur, une playlist qui piq...   \n",
       "4  Putsch au Niger : \"L’échec de l’opération Bark...   \n",
       "\n",
       "              published_date  \n",
       "0  2023-07-18T10:29:32+02:00  \n",
       "1  2023-08-01T10:36:40+02:00  \n",
       "2  2023-08-01T10:29:48+02:00  \n",
       "3  2023-08-01T10:27:08+02:00  \n",
       "4  2023-08-01T10:27:05+02:00  "
      ]
     },
     "execution_count": 100,
     "metadata": {},
     "output_type": "execute_result"
    }
   ],
   "source": [
    "df.head()"
   ]
  },
  {
   "cell_type": "markdown",
   "metadata": {},
   "source": [
    "#### keep only date from published_date"
   ]
  },
  {
   "cell_type": "code",
   "execution_count": 101,
   "metadata": {},
   "outputs": [
    {
     "data": {
      "text/html": [
       "<div>\n",
       "<style scoped>\n",
       "    .dataframe tbody tr th:only-of-type {\n",
       "        vertical-align: middle;\n",
       "    }\n",
       "\n",
       "    .dataframe tbody tr th {\n",
       "        vertical-align: top;\n",
       "    }\n",
       "\n",
       "    .dataframe thead th {\n",
       "        text-align: right;\n",
       "    }\n",
       "</style>\n",
       "<table border=\"1\" class=\"dataframe\">\n",
       "  <thead>\n",
       "    <tr style=\"text-align: right;\">\n",
       "      <th></th>\n",
       "      <th>source_url</th>\n",
       "      <th>last_modified_date</th>\n",
       "      <th>article_text</th>\n",
       "      <th>article_title</th>\n",
       "      <th>published_date</th>\n",
       "    </tr>\n",
       "  </thead>\n",
       "  <tbody>\n",
       "    <tr>\n",
       "      <th>0</th>\n",
       "      <td>https://www.rtbf.be/article/direct-video-vietn...</td>\n",
       "      <td>2023-08-01</td>\n",
       "      <td>La neuvième édition de la Coupe du monde fémin...</td>\n",
       "      <td>Coupe du monde féminine de football 2023 : hor...</td>\n",
       "      <td>2023-07-18</td>\n",
       "    </tr>\n",
       "    <tr>\n",
       "      <th>1</th>\n",
       "      <td>https://www.rtbf.be/article/couvin-un-nouveau-...</td>\n",
       "      <td>2023-08-01</td>\n",
       "      <td>Ce sont que des enfants livrés à eux-mêmes dan...</td>\n",
       "      <td>Couvin: un nouveau centre ouvre ses portes aux...</td>\n",
       "      <td>2023-08-01</td>\n",
       "    </tr>\n",
       "    <tr>\n",
       "      <th>2</th>\n",
       "      <td>https://www.rtbf.be/article/niger-la-france-va...</td>\n",
       "      <td>2023-08-01</td>\n",
       "      <td>La France a décidé d’évacuer dès mardi ses res...</td>\n",
       "      <td>Niger : la France va débuter l’évacuation de s...</td>\n",
       "      <td>2023-08-01</td>\n",
       "    </tr>\n",
       "    <tr>\n",
       "      <th>3</th>\n",
       "      <td>https://www.rtbf.be/article/entre-douceur-et-d...</td>\n",
       "      <td>2023-08-01</td>\n",
       "      <td>Tout au long de l’été, nous vous proposons une...</td>\n",
       "      <td>Entre douceur et douleur, une playlist qui piq...</td>\n",
       "      <td>2023-08-01</td>\n",
       "    </tr>\n",
       "    <tr>\n",
       "      <th>4</th>\n",
       "      <td>https://www.rtbf.be/article/putsch-au-niger-l-...</td>\n",
       "      <td>2023-08-01</td>\n",
       "      <td>Au Niger, la situation est toujours extrêmemen...</td>\n",
       "      <td>Putsch au Niger : \"L’échec de l’opération Bark...</td>\n",
       "      <td>2023-08-01</td>\n",
       "    </tr>\n",
       "  </tbody>\n",
       "</table>\n",
       "</div>"
      ],
      "text/plain": [
       "                                          source_url last_modified_date  \\\n",
       "0  https://www.rtbf.be/article/direct-video-vietn...         2023-08-01   \n",
       "1  https://www.rtbf.be/article/couvin-un-nouveau-...         2023-08-01   \n",
       "2  https://www.rtbf.be/article/niger-la-france-va...         2023-08-01   \n",
       "3  https://www.rtbf.be/article/entre-douceur-et-d...         2023-08-01   \n",
       "4  https://www.rtbf.be/article/putsch-au-niger-l-...         2023-08-01   \n",
       "\n",
       "                                        article_text  \\\n",
       "0  La neuvième édition de la Coupe du monde fémin...   \n",
       "1  Ce sont que des enfants livrés à eux-mêmes dan...   \n",
       "2  La France a décidé d’évacuer dès mardi ses res...   \n",
       "3  Tout au long de l’été, nous vous proposons une...   \n",
       "4  Au Niger, la situation est toujours extrêmemen...   \n",
       "\n",
       "                                       article_title published_date  \n",
       "0  Coupe du monde féminine de football 2023 : hor...     2023-07-18  \n",
       "1  Couvin: un nouveau centre ouvre ses portes aux...     2023-08-01  \n",
       "2  Niger : la France va débuter l’évacuation de s...     2023-08-01  \n",
       "3  Entre douceur et douleur, une playlist qui piq...     2023-08-01  \n",
       "4  Putsch au Niger : \"L’échec de l’opération Bark...     2023-08-01  "
      ]
     },
     "execution_count": 101,
     "metadata": {},
     "output_type": "execute_result"
    }
   ],
   "source": [
    "df['published_date'].replace({r\"T.+\": ''}, inplace=True, regex=True)\n",
    "df.head()"
   ]
  },
  {
   "cell_type": "markdown",
   "metadata": {},
   "source": [
    "#### Rearrange column order"
   ]
  },
  {
   "cell_type": "code",
   "execution_count": 104,
   "metadata": {},
   "outputs": [
    {
     "data": {
      "text/html": [
       "<div>\n",
       "<style scoped>\n",
       "    .dataframe tbody tr th:only-of-type {\n",
       "        vertical-align: middle;\n",
       "    }\n",
       "\n",
       "    .dataframe tbody tr th {\n",
       "        vertical-align: top;\n",
       "    }\n",
       "\n",
       "    .dataframe thead th {\n",
       "        text-align: right;\n",
       "    }\n",
       "</style>\n",
       "<table border=\"1\" class=\"dataframe\">\n",
       "  <thead>\n",
       "    <tr style=\"text-align: right;\">\n",
       "      <th></th>\n",
       "      <th>source_url</th>\n",
       "      <th>article_title</th>\n",
       "      <th>article_text</th>\n",
       "      <th>published_date</th>\n",
       "      <th>last_modified_date</th>\n",
       "    </tr>\n",
       "  </thead>\n",
       "  <tbody>\n",
       "    <tr>\n",
       "      <th>0</th>\n",
       "      <td>https://www.rtbf.be/article/direct-video-vietn...</td>\n",
       "      <td>Coupe du monde féminine de football 2023 : hor...</td>\n",
       "      <td>La neuvième édition de la Coupe du monde fémin...</td>\n",
       "      <td>2023-07-18</td>\n",
       "      <td>2023-08-01</td>\n",
       "    </tr>\n",
       "    <tr>\n",
       "      <th>1</th>\n",
       "      <td>https://www.rtbf.be/article/couvin-un-nouveau-...</td>\n",
       "      <td>Couvin: un nouveau centre ouvre ses portes aux...</td>\n",
       "      <td>Ce sont que des enfants livrés à eux-mêmes dan...</td>\n",
       "      <td>2023-08-01</td>\n",
       "      <td>2023-08-01</td>\n",
       "    </tr>\n",
       "    <tr>\n",
       "      <th>2</th>\n",
       "      <td>https://www.rtbf.be/article/niger-la-france-va...</td>\n",
       "      <td>Niger : la France va débuter l’évacuation de s...</td>\n",
       "      <td>La France a décidé d’évacuer dès mardi ses res...</td>\n",
       "      <td>2023-08-01</td>\n",
       "      <td>2023-08-01</td>\n",
       "    </tr>\n",
       "    <tr>\n",
       "      <th>3</th>\n",
       "      <td>https://www.rtbf.be/article/entre-douceur-et-d...</td>\n",
       "      <td>Entre douceur et douleur, une playlist qui piq...</td>\n",
       "      <td>Tout au long de l’été, nous vous proposons une...</td>\n",
       "      <td>2023-08-01</td>\n",
       "      <td>2023-08-01</td>\n",
       "    </tr>\n",
       "    <tr>\n",
       "      <th>4</th>\n",
       "      <td>https://www.rtbf.be/article/putsch-au-niger-l-...</td>\n",
       "      <td>Putsch au Niger : \"L’échec de l’opération Bark...</td>\n",
       "      <td>Au Niger, la situation est toujours extrêmemen...</td>\n",
       "      <td>2023-08-01</td>\n",
       "      <td>2023-08-01</td>\n",
       "    </tr>\n",
       "  </tbody>\n",
       "</table>\n",
       "</div>"
      ],
      "text/plain": [
       "                                          source_url  \\\n",
       "0  https://www.rtbf.be/article/direct-video-vietn...   \n",
       "1  https://www.rtbf.be/article/couvin-un-nouveau-...   \n",
       "2  https://www.rtbf.be/article/niger-la-france-va...   \n",
       "3  https://www.rtbf.be/article/entre-douceur-et-d...   \n",
       "4  https://www.rtbf.be/article/putsch-au-niger-l-...   \n",
       "\n",
       "                                       article_title  \\\n",
       "0  Coupe du monde féminine de football 2023 : hor...   \n",
       "1  Couvin: un nouveau centre ouvre ses portes aux...   \n",
       "2  Niger : la France va débuter l’évacuation de s...   \n",
       "3  Entre douceur et douleur, une playlist qui piq...   \n",
       "4  Putsch au Niger : \"L’échec de l’opération Bark...   \n",
       "\n",
       "                                        article_text published_date  \\\n",
       "0  La neuvième édition de la Coupe du monde fémin...     2023-07-18   \n",
       "1  Ce sont que des enfants livrés à eux-mêmes dan...     2023-08-01   \n",
       "2  La France a décidé d’évacuer dès mardi ses res...     2023-08-01   \n",
       "3  Tout au long de l’été, nous vous proposons une...     2023-08-01   \n",
       "4  Au Niger, la situation est toujours extrêmemen...     2023-08-01   \n",
       "\n",
       "  last_modified_date  \n",
       "0         2023-08-01  \n",
       "1         2023-08-01  \n",
       "2         2023-08-01  \n",
       "3         2023-08-01  \n",
       "4         2023-08-01  "
      ]
     },
     "execution_count": 104,
     "metadata": {},
     "output_type": "execute_result"
    }
   ],
   "source": [
    "final_df = df.loc[:, ['source_url', 'article_title', 'article_text', 'published_date', 'last_modified_date']]\n",
    "final_df.head()"
   ]
  },
  {
   "cell_type": "markdown",
   "metadata": {},
   "source": [
    "#### Export to csv"
   ]
  },
  {
   "cell_type": "code",
   "execution_count": 106,
   "metadata": {},
   "outputs": [],
   "source": [
    "final_df.to_csv('data/rtbf_articles.csv')"
   ]
  }
 ],
 "metadata": {
  "kernelspec": {
   "display_name": "env",
   "language": "python",
   "name": "python3"
  },
  "language_info": {
   "codemirror_mode": {
    "name": "ipython",
    "version": 3
   },
   "file_extension": ".py",
   "mimetype": "text/x-python",
   "name": "python",
   "nbconvert_exporter": "python",
   "pygments_lexer": "ipython3",
   "version": "3.11.3"
  },
  "orig_nbformat": 4
 },
 "nbformat": 4,
 "nbformat_minor": 2
}
