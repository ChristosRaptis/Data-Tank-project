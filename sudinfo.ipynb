{
 "cells": [
  {
   "cell_type": "code",
   "execution_count": 87,
   "metadata": {},
   "outputs": [],
   "source": [
    "import pandas as pd\n",
    "import requests\n",
    "from bs4 import BeautifulSoup as bs\n",
    "import ssl\n",
    "import re\n",
    "ssl._create_default_https_context = ssl._create_unverified_context"
   ]
  },
  {
   "cell_type": "code",
   "execution_count": 88,
   "metadata": {},
   "outputs": [
    {
     "data": {
      "text/html": [
       "<div>\n",
       "<style scoped>\n",
       "    .dataframe tbody tr th:only-of-type {\n",
       "        vertical-align: middle;\n",
       "    }\n",
       "\n",
       "    .dataframe tbody tr th {\n",
       "        vertical-align: top;\n",
       "    }\n",
       "\n",
       "    .dataframe thead th {\n",
       "        text-align: right;\n",
       "    }\n",
       "</style>\n",
       "<table border=\"1\" class=\"dataframe\">\n",
       "  <thead>\n",
       "    <tr style=\"text-align: right;\">\n",
       "      <th></th>\n",
       "      <th>loc</th>\n",
       "      <th>news</th>\n",
       "      <th>image</th>\n",
       "    </tr>\n",
       "  </thead>\n",
       "  <tbody>\n",
       "    <tr>\n",
       "      <th>0</th>\n",
       "      <td>https://www.sudinfo.be/id693256/article/2023-0...</td>\n",
       "      <td>NaN</td>\n",
       "      <td>NaN</td>\n",
       "    </tr>\n",
       "    <tr>\n",
       "      <th>1</th>\n",
       "      <td>https://www.sudinfo.be/id693254/article/2023-0...</td>\n",
       "      <td>NaN</td>\n",
       "      <td>NaN</td>\n",
       "    </tr>\n",
       "    <tr>\n",
       "      <th>2</th>\n",
       "      <td>https://www.sudinfo.be/id693253/article/2023-0...</td>\n",
       "      <td>NaN</td>\n",
       "      <td>NaN</td>\n",
       "    </tr>\n",
       "    <tr>\n",
       "      <th>3</th>\n",
       "      <td>https://www.sudinfo.be/id693251/article/2023-0...</td>\n",
       "      <td>NaN</td>\n",
       "      <td>NaN</td>\n",
       "    </tr>\n",
       "    <tr>\n",
       "      <th>4</th>\n",
       "      <td>https://www.sudinfo.be/id693167/article/2023-0...</td>\n",
       "      <td>NaN</td>\n",
       "      <td>NaN</td>\n",
       "    </tr>\n",
       "  </tbody>\n",
       "</table>\n",
       "</div>"
      ],
      "text/plain": [
       "                                                 loc  news  image\n",
       "0  https://www.sudinfo.be/id693256/article/2023-0...   NaN    NaN\n",
       "1  https://www.sudinfo.be/id693254/article/2023-0...   NaN    NaN\n",
       "2  https://www.sudinfo.be/id693253/article/2023-0...   NaN    NaN\n",
       "3  https://www.sudinfo.be/id693251/article/2023-0...   NaN    NaN\n",
       "4  https://www.sudinfo.be/id693167/article/2023-0...   NaN    NaN"
      ]
     },
     "execution_count": 88,
     "metadata": {},
     "output_type": "execute_result"
    }
   ],
   "source": [
    "sitemap = pd.read_xml('https://www.sudinfo.be/sites/default/files/sitemaps/sitemapnews-0.xml')\n",
    "sitemap.head()"
   ]
  },
  {
   "cell_type": "code",
   "execution_count": 89,
   "metadata": {},
   "outputs": [
    {
     "data": {
      "text/plain": [
       "0      https://www.sudinfo.be/id693256/article/2023-0...\n",
       "1      https://www.sudinfo.be/id693254/article/2023-0...\n",
       "2      https://www.sudinfo.be/id693253/article/2023-0...\n",
       "3      https://www.sudinfo.be/id693251/article/2023-0...\n",
       "4      https://www.sudinfo.be/id693167/article/2023-0...\n",
       "                             ...                        \n",
       "133    https://www.sudinfo.be/id692604/article/2023-0...\n",
       "134    https://www.sudinfo.be/id692535/article/2023-0...\n",
       "135    https://www.sudinfo.be/id692600/article/2023-0...\n",
       "136    https://www.sudinfo.be/id692599/article/2023-0...\n",
       "137    https://www.sudinfo.be/id692593/article/2023-0...\n",
       "Name: loc, Length: 138, dtype: object"
      ]
     },
     "execution_count": 89,
     "metadata": {},
     "output_type": "execute_result"
    }
   ],
   "source": [
    "url = sitemap['loc']\n",
    "url"
   ]
  },
  {
   "cell_type": "code",
   "execution_count": 90,
   "metadata": {},
   "outputs": [
    {
     "data": {
      "text/plain": [
       "'https://www.sudinfo.be/id693254/article/2023-08-02/javais-oublie-quel-point-elles-etaient-belles-robbie-williams-se-devoile-les'"
      ]
     },
     "execution_count": 90,
     "metadata": {},
     "output_type": "execute_result"
    }
   ],
   "source": [
    "article_one = url[1]\n",
    "article_one"
   ]
  },
  {
   "attachments": {},
   "cell_type": "markdown",
   "metadata": {},
   "source": [
    "# Title"
   ]
  },
  {
   "cell_type": "code",
   "execution_count": 91,
   "metadata": {},
   "outputs": [
    {
     "name": "stdout",
     "output_type": "stream",
     "text": [
      "«J’avais oublié à quel point elles étaient belles»: Robbie Williams se dévoile les fesses à l’air à l’occasion de la pleine lune (photo)\n"
     ]
    }
   ],
   "source": [
    "def find_article_title(url: str) -> str:\n",
    "    response = requests.get(url)\n",
    "    soup = bs(response.content, \"html.parser\")\n",
    "    title = soup.find(\"h1\").text\n",
    "    text = title.strip()\n",
    "    return text\n",
    "\n",
    "print(find_article_title(article_one))"
   ]
  },
  {
   "attachments": {},
   "cell_type": "markdown",
   "metadata": {},
   "source": [
    "# Date"
   ]
  },
  {
   "cell_type": "code",
   "execution_count": 92,
   "metadata": {},
   "outputs": [
    {
     "name": "stdout",
     "output_type": "stream",
     "text": [
      "2023-08-02\n"
     ]
    }
   ],
   "source": [
    "def find_published_date(url:str) -> str:\n",
    "    response = requests.get(url)\n",
    "    soup = bs(response.content, \"html.parser\")\n",
    "    date = soup.find(\"time\").text\n",
    "    data = \"\".join(date)\n",
    "    date_pattern = r\"\\d{2}/\\d{2}/\\d{4}\" \n",
    "    date_match = re.search(date_pattern, date)\n",
    "    date = date_match.group()\n",
    "    day, month, year = date.split(\"/\")\n",
    "    date= f\"{year}-{month}-{day}\"\n",
    "    return date\n",
    "\n",
    "print(find_published_date(article_one))"
   ]
  },
  {
   "attachments": {},
   "cell_type": "markdown",
   "metadata": {},
   "source": [
    "# Text"
   ]
  },
  {
   "cell_type": "code",
   "execution_count": 93,
   "metadata": {},
   "outputs": [
    {
     "name": "stdout",
     "output_type": "stream",
     "text": [
      "Chacun profite de la pleine lune à sa façon… Ce 1er août, vous avez peut-être vu la Super lune de l’Esturgeon, la deuxième pleine lune de cette année. Si pas, vous pouvez toujours vous rattraper en allant voir celle de Robbie Williams. « Pour fêter la nouvelle pleine lune, voici la mienne », écrit le chanteur sur Instagram, dévoilant une photo de dos, les fesses à l’air.     \n",
      "     Lire aussi     \n",
      " Robbie Williams en duo avec… un chat ! (vidéo)     Autant dire que ce cliché n’a pas manqué de faire réagir ses fans, toujours aussi conquis par les folies de la star de 49 ans. « Quelle pêche ! », « J’avais oublié à quel point ton cul est beau », ou encore « Quelle pleine lune parfaite ! Cela m’a manqué, ça faisait trop longtemps… », peut-on lire dans les commentaires. Une autre internaute soulève la présence d’une personne, face à l’acteur, smartphone en main : « Est-ce que quelqu’un prend aussi une photo de votre Mars avant ? », se demande-t-elle. Aucune réponse à la question n’a pour l’instant été donnée…   \n",
      "  © 2023 Ciné-Télé-Revue. Tous droits réservés.\n"
     ]
    }
   ],
   "source": [
    "def find_article_title(url: str) -> str:\n",
    "    response = requests.get(url)\n",
    "    soup = bs(response.content, \"html.parser\")\n",
    "    paragraph = soup.find_all(\"p\", attrs={\"class\": None})\n",
    "    paragraphs = [p.text for p in paragraph]\n",
    "    cleaned_paragraphs = ' '.join(paragraphs)\n",
    "    return cleaned_paragraphs\n",
    "\n",
    "print(find_article_title(article_one))"
   ]
  }
 ],
 "metadata": {
  "kernelspec": {
   "display_name": "env",
   "language": "python",
   "name": "python3"
  },
  "language_info": {
   "codemirror_mode": {
    "name": "ipython",
    "version": 3
   },
   "file_extension": ".py",
   "mimetype": "text/x-python",
   "name": "python",
   "nbconvert_exporter": "python",
   "pygments_lexer": "ipython3",
   "version": "3.11.4"
  },
  "orig_nbformat": 4
 },
 "nbformat": 4,
 "nbformat_minor": 2
}
