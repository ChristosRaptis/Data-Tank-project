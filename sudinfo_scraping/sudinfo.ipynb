{
 "cells": [
  {
   "cell_type": "code",
   "execution_count": 2,
   "metadata": {},
   "outputs": [],
   "source": [
    "import pandas as pd\n",
    "import requests\n",
    "from bs4 import BeautifulSoup as bs\n",
    "import ssl\n",
    "import re\n",
    "ssl._create_default_https_context = ssl._create_unverified_context"
   ]
  },
  {
   "cell_type": "code",
   "execution_count": 3,
   "metadata": {},
   "outputs": [
    {
     "data": {
      "text/html": [
       "<div>\n",
       "<style scoped>\n",
       "    .dataframe tbody tr th:only-of-type {\n",
       "        vertical-align: middle;\n",
       "    }\n",
       "\n",
       "    .dataframe tbody tr th {\n",
       "        vertical-align: top;\n",
       "    }\n",
       "\n",
       "    .dataframe thead th {\n",
       "        text-align: right;\n",
       "    }\n",
       "</style>\n",
       "<table border=\"1\" class=\"dataframe\">\n",
       "  <thead>\n",
       "    <tr style=\"text-align: right;\">\n",
       "      <th></th>\n",
       "      <th>loc</th>\n",
       "      <th>news</th>\n",
       "      <th>image</th>\n",
       "    </tr>\n",
       "  </thead>\n",
       "  <tbody>\n",
       "    <tr>\n",
       "      <th>0</th>\n",
       "      <td>https://www.sudinfo.be/id693556/article/2023-0...</td>\n",
       "      <td>NaN</td>\n",
       "      <td>NaN</td>\n",
       "    </tr>\n",
       "    <tr>\n",
       "      <th>1</th>\n",
       "      <td>https://www.sudinfo.be/id693580/article/2023-0...</td>\n",
       "      <td>NaN</td>\n",
       "      <td>NaN</td>\n",
       "    </tr>\n",
       "    <tr>\n",
       "      <th>2</th>\n",
       "      <td>https://www.sudinfo.be/id693578/article/2023-0...</td>\n",
       "      <td>NaN</td>\n",
       "      <td>NaN</td>\n",
       "    </tr>\n",
       "    <tr>\n",
       "      <th>3</th>\n",
       "      <td>https://www.sudinfo.be/id693577/article/2023-0...</td>\n",
       "      <td>NaN</td>\n",
       "      <td>NaN</td>\n",
       "    </tr>\n",
       "    <tr>\n",
       "      <th>4</th>\n",
       "      <td>https://www.sudinfo.be/id693570/article/2023-0...</td>\n",
       "      <td>NaN</td>\n",
       "      <td>NaN</td>\n",
       "    </tr>\n",
       "  </tbody>\n",
       "</table>\n",
       "</div>"
      ],
      "text/plain": [
       "                                                 loc  news  image\n",
       "0  https://www.sudinfo.be/id693556/article/2023-0...   NaN    NaN\n",
       "1  https://www.sudinfo.be/id693580/article/2023-0...   NaN    NaN\n",
       "2  https://www.sudinfo.be/id693578/article/2023-0...   NaN    NaN\n",
       "3  https://www.sudinfo.be/id693577/article/2023-0...   NaN    NaN\n",
       "4  https://www.sudinfo.be/id693570/article/2023-0...   NaN    NaN"
      ]
     },
     "execution_count": 3,
     "metadata": {},
     "output_type": "execute_result"
    }
   ],
   "source": [
    "sitemap = pd.read_xml('https://www.sudinfo.be/sites/default/files/sitemaps/sitemapnews-0.xml')\n",
    "sitemap.head()"
   ]
  },
  {
   "cell_type": "code",
   "execution_count": 4,
   "metadata": {},
   "outputs": [
    {
     "data": {
      "text/plain": [
       "0      https://www.sudinfo.be/id693556/article/2023-0...\n",
       "1      https://www.sudinfo.be/id693580/article/2023-0...\n",
       "2      https://www.sudinfo.be/id693578/article/2023-0...\n",
       "3      https://www.sudinfo.be/id693577/article/2023-0...\n",
       "4      https://www.sudinfo.be/id693570/article/2023-0...\n",
       "                             ...                        \n",
       "142    https://www.sudinfo.be/id692888/article/2023-0...\n",
       "143    https://www.sudinfo.be/id692887/article/2023-0...\n",
       "144    https://www.sudinfo.be/id692884/article/2023-0...\n",
       "145    https://www.sudinfo.be/id692838/article/2023-0...\n",
       "146    https://www.sudinfo.be/shopping/bons-plans/id6...\n",
       "Name: loc, Length: 147, dtype: object"
      ]
     },
     "execution_count": 4,
     "metadata": {},
     "output_type": "execute_result"
    }
   ],
   "source": [
    "url = sitemap['loc']\n",
    "url"
   ]
  },
  {
   "cell_type": "code",
   "execution_count": 27,
   "metadata": {},
   "outputs": [
    {
     "data": {
      "text/plain": [
       "'https://www.sudinfo.be/id693548/article/2023-08-03/futsal-premiere-revue-des-troupes-ce-vendredi-au-fmc-charleroi-qui-dispute-son'"
      ]
     },
     "execution_count": 27,
     "metadata": {},
     "output_type": "execute_result"
    }
   ],
   "source": [
    "article_one = url[1]\n",
    "article_one"
   ]
  },
  {
   "attachments": {},
   "cell_type": "markdown",
   "metadata": {},
   "source": [
    "# Title"
   ]
  },
  {
   "cell_type": "code",
   "execution_count": 28,
   "metadata": {},
   "outputs": [
    {
     "name": "stdout",
     "output_type": "stream",
     "text": [
      "Futsal | Première revue des troupes ce vendredi au FMC Charleroi, qui dispute son premier amical de la saison contre Courcelles\n"
     ]
    }
   ],
   "source": [
    "def find_article_title(url: str) -> str:\n",
    "    response = requests.get(url)\n",
    "    soup = bs(response.content, \"html.parser\")\n",
    "    title = soup.find(\"h1\").text\n",
    "    text = title.strip()\n",
    "    return text\n",
    "\n",
    "print(find_article_title(article_one))"
   ]
  },
  {
   "attachments": {},
   "cell_type": "markdown",
   "metadata": {},
   "source": [
    "# Date"
   ]
  },
  {
   "cell_type": "code",
   "execution_count": 29,
   "metadata": {},
   "outputs": [
    {
     "name": "stdout",
     "output_type": "stream",
     "text": [
      "2023-08-03\n"
     ]
    }
   ],
   "source": [
    "def find_published_date(url:str) -> str:\n",
    "    response = requests.get(url)\n",
    "    soup = bs(response.content, \"html.parser\")\n",
    "    date = soup.find(\"time\").text\n",
    "    date_pattern = r\"\\d{2}/\\d{2}/\\d{4}\" \n",
    "    date_match = re.search(date_pattern, date)\n",
    "    date = date_match.group()\n",
    "    day, month, year = date.split(\"/\")\n",
    "    date= f\"{year}-{month}-{day}\"\n",
    "    return date\n",
    "\n",
    "print(find_published_date(article_one))"
   ]
  },
  {
   "attachments": {},
   "cell_type": "markdown",
   "metadata": {},
   "source": [
    "# Text"
   ]
  },
  {
   "cell_type": "code",
   "execution_count": 30,
   "metadata": {},
   "outputs": [
    {
     "name": "stdout",
     "output_type": "stream",
     "text": [
      "Après avoir repris l’entraînement mardi, le FMC Charleroi joue en amical ce vendredi (21h15) contre l’AT Courcelles. La reprise s’est bien passée également pour le FT Charleroi qui jouera son premier match de préparation la semaine prochaine.\n"
     ]
    }
   ],
   "source": [
    "def find_article_text(url: str) -> str:\n",
    "    response = requests.get(url)\n",
    "    soup = bs(response.content, \"html.parser\")\n",
    "    paragraph = soup.find_all(\"r-article--chapo\", attrs={\"class\": None})\n",
    "    paragraphs = [p.text for p in paragraph]\n",
    "    cleaned_paragraphs = ' '.join(paragraphs)\n",
    "    return cleaned_paragraphs\n",
    "\n",
    "print(find_article_text(article_one))"
   ]
  },
  {
   "cell_type": "code",
   "execution_count": 31,
   "metadata": {},
   "outputs": [
    {
     "data": {
      "text/html": [
       "<div>\n",
       "<style scoped>\n",
       "    .dataframe tbody tr th:only-of-type {\n",
       "        vertical-align: middle;\n",
       "    }\n",
       "\n",
       "    .dataframe tbody tr th {\n",
       "        vertical-align: top;\n",
       "    }\n",
       "\n",
       "    .dataframe thead th {\n",
       "        text-align: right;\n",
       "    }\n",
       "</style>\n",
       "<table border=\"1\" class=\"dataframe\">\n",
       "  <thead>\n",
       "    <tr style=\"text-align: right;\">\n",
       "      <th></th>\n",
       "      <th>source_url</th>\n",
       "    </tr>\n",
       "  </thead>\n",
       "  <tbody>\n",
       "    <tr>\n",
       "      <th>0</th>\n",
       "      <td>https://www.sudinfo.be/id693551/article/2023-0...</td>\n",
       "    </tr>\n",
       "    <tr>\n",
       "      <th>1</th>\n",
       "      <td>https://www.sudinfo.be/id693548/article/2023-0...</td>\n",
       "    </tr>\n",
       "    <tr>\n",
       "      <th>2</th>\n",
       "      <td>https://www.sudinfo.be/id693534/article/2023-0...</td>\n",
       "    </tr>\n",
       "    <tr>\n",
       "      <th>3</th>\n",
       "      <td>https://www.sudinfo.be/id693530/article/2023-0...</td>\n",
       "    </tr>\n",
       "    <tr>\n",
       "      <th>4</th>\n",
       "      <td>https://www.sudinfo.be/id693518/article/2023-0...</td>\n",
       "    </tr>\n",
       "  </tbody>\n",
       "</table>\n",
       "</div>"
      ],
      "text/plain": [
       "                                          source_url\n",
       "0  https://www.sudinfo.be/id693551/article/2023-0...\n",
       "1  https://www.sudinfo.be/id693548/article/2023-0...\n",
       "2  https://www.sudinfo.be/id693534/article/2023-0...\n",
       "3  https://www.sudinfo.be/id693530/article/2023-0...\n",
       "4  https://www.sudinfo.be/id693518/article/2023-0..."
      ]
     },
     "execution_count": 31,
     "metadata": {},
     "output_type": "execute_result"
    }
   ],
   "source": [
    "df = sitemap.drop([\"news\", \"image\"], axis=1)\n",
    "df.rename(columns={\"loc\": \"source_url\"}, inplace=True)\n",
    "df.head()"
   ]
  },
  {
   "cell_type": "code",
   "execution_count": 32,
   "metadata": {},
   "outputs": [
    {
     "data": {
      "text/html": [
       "<div>\n",
       "<style scoped>\n",
       "    .dataframe tbody tr th:only-of-type {\n",
       "        vertical-align: middle;\n",
       "    }\n",
       "\n",
       "    .dataframe tbody tr th {\n",
       "        vertical-align: top;\n",
       "    }\n",
       "\n",
       "    .dataframe thead th {\n",
       "        text-align: right;\n",
       "    }\n",
       "</style>\n",
       "<table border=\"1\" class=\"dataframe\">\n",
       "  <thead>\n",
       "    <tr style=\"text-align: right;\">\n",
       "      <th></th>\n",
       "      <th>source_url</th>\n",
       "      <th>published_date</th>\n",
       "    </tr>\n",
       "  </thead>\n",
       "  <tbody>\n",
       "    <tr>\n",
       "      <th>0</th>\n",
       "      <td>https://www.sudinfo.be/id693551/article/2023-0...</td>\n",
       "      <td>2023-08-03</td>\n",
       "    </tr>\n",
       "    <tr>\n",
       "      <th>1</th>\n",
       "      <td>https://www.sudinfo.be/id693548/article/2023-0...</td>\n",
       "      <td>2023-08-03</td>\n",
       "    </tr>\n",
       "    <tr>\n",
       "      <th>2</th>\n",
       "      <td>https://www.sudinfo.be/id693534/article/2023-0...</td>\n",
       "      <td>2023-08-03</td>\n",
       "    </tr>\n",
       "    <tr>\n",
       "      <th>3</th>\n",
       "      <td>https://www.sudinfo.be/id693530/article/2023-0...</td>\n",
       "      <td>2023-08-03</td>\n",
       "    </tr>\n",
       "    <tr>\n",
       "      <th>4</th>\n",
       "      <td>https://www.sudinfo.be/id693518/article/2023-0...</td>\n",
       "      <td>2023-08-03</td>\n",
       "    </tr>\n",
       "  </tbody>\n",
       "</table>\n",
       "</div>"
      ],
      "text/plain": [
       "                                          source_url published_date\n",
       "0  https://www.sudinfo.be/id693551/article/2023-0...     2023-08-03\n",
       "1  https://www.sudinfo.be/id693548/article/2023-0...     2023-08-03\n",
       "2  https://www.sudinfo.be/id693534/article/2023-0...     2023-08-03\n",
       "3  https://www.sudinfo.be/id693530/article/2023-0...     2023-08-03\n",
       "4  https://www.sudinfo.be/id693518/article/2023-0...     2023-08-03"
      ]
     },
     "execution_count": 32,
     "metadata": {},
     "output_type": "execute_result"
    }
   ],
   "source": [
    "df['published_date'] = df['source_url'].apply(find_published_date)\n",
    "df.head()"
   ]
  },
  {
   "cell_type": "code",
   "execution_count": 33,
   "metadata": {},
   "outputs": [
    {
     "data": {
      "text/html": [
       "<div>\n",
       "<style scoped>\n",
       "    .dataframe tbody tr th:only-of-type {\n",
       "        vertical-align: middle;\n",
       "    }\n",
       "\n",
       "    .dataframe tbody tr th {\n",
       "        vertical-align: top;\n",
       "    }\n",
       "\n",
       "    .dataframe thead th {\n",
       "        text-align: right;\n",
       "    }\n",
       "</style>\n",
       "<table border=\"1\" class=\"dataframe\">\n",
       "  <thead>\n",
       "    <tr style=\"text-align: right;\">\n",
       "      <th></th>\n",
       "      <th>source_url</th>\n",
       "      <th>published_date</th>\n",
       "      <th>article_title</th>\n",
       "    </tr>\n",
       "  </thead>\n",
       "  <tbody>\n",
       "    <tr>\n",
       "      <th>0</th>\n",
       "      <td>https://www.sudinfo.be/id693551/article/2023-0...</td>\n",
       "      <td>2023-08-03</td>\n",
       "      <td>Rugby (D1) | Soignies en pleine reconstruction...</td>\n",
       "    </tr>\n",
       "    <tr>\n",
       "      <th>1</th>\n",
       "      <td>https://www.sudinfo.be/id693548/article/2023-0...</td>\n",
       "      <td>2023-08-03</td>\n",
       "      <td>Futsal | Première revue des troupes ce vendred...</td>\n",
       "    </tr>\n",
       "    <tr>\n",
       "      <th>2</th>\n",
       "      <td>https://www.sudinfo.be/id693534/article/2023-0...</td>\n",
       "      <td>2023-08-03</td>\n",
       "      <td>Basket - Messieurs | Nouveau départ pour Hanef...</td>\n",
       "    </tr>\n",
       "    <tr>\n",
       "      <th>3</th>\n",
       "      <td>https://www.sudinfo.be/id693530/article/2023-0...</td>\n",
       "      <td>2023-08-03</td>\n",
       "      <td>Basket - Dames | Huy sera très ambitieux (tous...</td>\n",
       "    </tr>\n",
       "    <tr>\n",
       "      <th>4</th>\n",
       "      <td>https://www.sudinfo.be/id693518/article/2023-0...</td>\n",
       "      <td>2023-08-03</td>\n",
       "      <td>Basket | Sélectionné pour l’Euro U16 en Macédo...</td>\n",
       "    </tr>\n",
       "  </tbody>\n",
       "</table>\n",
       "</div>"
      ],
      "text/plain": [
       "                                          source_url published_date  \\\n",
       "0  https://www.sudinfo.be/id693551/article/2023-0...     2023-08-03   \n",
       "1  https://www.sudinfo.be/id693548/article/2023-0...     2023-08-03   \n",
       "2  https://www.sudinfo.be/id693534/article/2023-0...     2023-08-03   \n",
       "3  https://www.sudinfo.be/id693530/article/2023-0...     2023-08-03   \n",
       "4  https://www.sudinfo.be/id693518/article/2023-0...     2023-08-03   \n",
       "\n",
       "                                       article_title  \n",
       "0  Rugby (D1) | Soignies en pleine reconstruction...  \n",
       "1  Futsal | Première revue des troupes ce vendred...  \n",
       "2  Basket - Messieurs | Nouveau départ pour Hanef...  \n",
       "3  Basket - Dames | Huy sera très ambitieux (tous...  \n",
       "4  Basket | Sélectionné pour l’Euro U16 en Macédo...  "
      ]
     },
     "execution_count": 33,
     "metadata": {},
     "output_type": "execute_result"
    }
   ],
   "source": [
    "df['article_title'] = df['source_url'].apply(find_article_title)\n",
    "df.head()"
   ]
  },
  {
   "cell_type": "code",
   "execution_count": 34,
   "metadata": {},
   "outputs": [
    {
     "data": {
      "text/html": [
       "<div>\n",
       "<style scoped>\n",
       "    .dataframe tbody tr th:only-of-type {\n",
       "        vertical-align: middle;\n",
       "    }\n",
       "\n",
       "    .dataframe tbody tr th {\n",
       "        vertical-align: top;\n",
       "    }\n",
       "\n",
       "    .dataframe thead th {\n",
       "        text-align: right;\n",
       "    }\n",
       "</style>\n",
       "<table border=\"1\" class=\"dataframe\">\n",
       "  <thead>\n",
       "    <tr style=\"text-align: right;\">\n",
       "      <th></th>\n",
       "      <th>source_url</th>\n",
       "      <th>article_title</th>\n",
       "      <th>article_text</th>\n",
       "      <th>published_date</th>\n",
       "    </tr>\n",
       "  </thead>\n",
       "  <tbody>\n",
       "    <tr>\n",
       "      <th>0</th>\n",
       "      <td>https://www.sudinfo.be/id693551/article/2023-0...</td>\n",
       "      <td>Rugby (D1) | Soignies en pleine reconstruction...</td>\n",
       "      <td>Boris Montoisy a pris du recul et c’est donc B...</td>\n",
       "      <td>2023-08-03</td>\n",
       "    </tr>\n",
       "    <tr>\n",
       "      <th>1</th>\n",
       "      <td>https://www.sudinfo.be/id693548/article/2023-0...</td>\n",
       "      <td>Futsal | Première revue des troupes ce vendred...</td>\n",
       "      <td>Après avoir repris l’entraînement mardi, le FM...</td>\n",
       "      <td>2023-08-03</td>\n",
       "    </tr>\n",
       "    <tr>\n",
       "      <th>2</th>\n",
       "      <td>https://www.sudinfo.be/id693534/article/2023-0...</td>\n",
       "      <td>Basket - Messieurs | Nouveau départ pour Hanef...</td>\n",
       "      <td>Cette semaine marque la reprise du basket. Déc...</td>\n",
       "      <td>2023-08-03</td>\n",
       "    </tr>\n",
       "    <tr>\n",
       "      <th>3</th>\n",
       "      <td>https://www.sudinfo.be/id693530/article/2023-0...</td>\n",
       "      <td>Basket - Dames | Huy sera très ambitieux (tous...</td>\n",
       "      <td>Cette semaine marque la reprise du basket. Déc...</td>\n",
       "      <td>2023-08-03</td>\n",
       "    </tr>\n",
       "    <tr>\n",
       "      <th>4</th>\n",
       "      <td>https://www.sudinfo.be/id693518/article/2023-0...</td>\n",
       "      <td>Basket | Sélectionné pour l’Euro U16 en Macédo...</td>\n",
       "      <td>Le basketteur formé au Spirou s’est envolé ce ...</td>\n",
       "      <td>2023-08-03</td>\n",
       "    </tr>\n",
       "  </tbody>\n",
       "</table>\n",
       "</div>"
      ],
      "text/plain": [
       "                                          source_url  \\\n",
       "0  https://www.sudinfo.be/id693551/article/2023-0...   \n",
       "1  https://www.sudinfo.be/id693548/article/2023-0...   \n",
       "2  https://www.sudinfo.be/id693534/article/2023-0...   \n",
       "3  https://www.sudinfo.be/id693530/article/2023-0...   \n",
       "4  https://www.sudinfo.be/id693518/article/2023-0...   \n",
       "\n",
       "                                       article_title  \\\n",
       "0  Rugby (D1) | Soignies en pleine reconstruction...   \n",
       "1  Futsal | Première revue des troupes ce vendred...   \n",
       "2  Basket - Messieurs | Nouveau départ pour Hanef...   \n",
       "3  Basket - Dames | Huy sera très ambitieux (tous...   \n",
       "4  Basket | Sélectionné pour l’Euro U16 en Macédo...   \n",
       "\n",
       "                                        article_text published_date  \n",
       "0  Boris Montoisy a pris du recul et c’est donc B...     2023-08-03  \n",
       "1  Après avoir repris l’entraînement mardi, le FM...     2023-08-03  \n",
       "2  Cette semaine marque la reprise du basket. Déc...     2023-08-03  \n",
       "3  Cette semaine marque la reprise du basket. Déc...     2023-08-03  \n",
       "4  Le basketteur formé au Spirou s’est envolé ce ...     2023-08-03  "
      ]
     },
     "execution_count": 34,
     "metadata": {},
     "output_type": "execute_result"
    }
   ],
   "source": [
    "df['article_text'] = df['source_url'].apply(find_article_text)\n",
    "df = df.loc[:, ['source_url', 'article_title', 'article_text', 'published_date']]\n",
    "df.to_csv('sudinfo_articles.csv')\n",
    "df.head()"
   ]
  }
 ],
 "metadata": {
  "kernelspec": {
   "display_name": "env",
   "language": "python",
   "name": "python3"
  },
  "language_info": {
   "codemirror_mode": {
    "name": "ipython",
    "version": 3
   },
   "file_extension": ".py",
   "mimetype": "text/x-python",
   "name": "python",
   "nbconvert_exporter": "python",
   "pygments_lexer": "ipython3",
   "version": "3.11.4"
  },
  "orig_nbformat": 4
 },
 "nbformat": 4,
 "nbformat_minor": 2
}
