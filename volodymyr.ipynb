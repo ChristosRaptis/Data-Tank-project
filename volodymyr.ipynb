{
 "cells": [
  {
   "cell_type": "code",
   "execution_count": null,
   "metadata": {},
   "outputs": [],
   "source": [
    "#import module\n",
    "import requests\n",
    "import xmltodict\n",
    "url = \"https://www.rtbf.be/site-map/articles.xml\"\n",
    "response = requests.get(url)\n",
    "if response.status_code == 200:\n",
    "    xml_content = response.text\n",
    "  #  print(\"XML content is:\")\n",
    " #   print(xml_content)\n",
    " #change xml format to ordered dict\n",
    "my_ordered_dict=xmltodict.parse(xml_content)\n",
    "print(my_ordered_dict)\n",
    "print(my_ordered_dict['urlset']['url'][272]['loc'])"
   ]
  }
 ],
 "metadata": {
  "language_info": {
   "name": "python"
  },
  "orig_nbformat": 4
 },
 "nbformat": 4,
 "nbformat_minor": 2
}
