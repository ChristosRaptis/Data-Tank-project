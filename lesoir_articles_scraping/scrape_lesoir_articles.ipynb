{
 "cells": [
  {
   "cell_type": "code",
   "execution_count": 30,
   "metadata": {},
   "outputs": [],
   "source": [
    "import pandas as pd\n",
    "import requests\n",
    "from bs4 import BeautifulSoup as bs\n",
    "import json\n",
    "import ssl\n",
    "ssl._create_default_https_context = ssl._create_unverified_context"
   ]
  },
  {
   "cell_type": "code",
   "execution_count": 78,
   "metadata": {},
   "outputs": [],
   "source": [
    "response = requests.get(\"https://www.lesoir.be/18/sections/le-direct\")\n",
    "soup = bs(response.content, \"html.parser\")\n"
   ]
  },
  {
   "cell_type": "markdown",
   "metadata": {},
   "source": [
    "#### Create list with urls of first page of news articles"
   ]
  },
  {
   "cell_type": "code",
   "execution_count": 79,
   "metadata": {},
   "outputs": [
    {
     "name": "stdout",
     "output_type": "stream",
     "text": [
      "[{'source_url': 'https://www.lesoir.be/529030/article/2023-08-02/vetements-pour-enfants-dangereux-lavertissement-du-spf-economie'}, {'source_url': 'https://www.lesoir.be/529026/article/2023-08-02/vol-avec-violences-la-police-lance-un-avis-de-recherche-photo'}, {'source_url': 'https://www.lesoir.be/529025/article/2023-08-02/pres-dune-tonne-de-cocaine-saisie-et-cinq-arrestations-au-port-danvers'}, {'source_url': 'https://www.lesoir.be/529024/article/2023-08-02/explosion-du-taux-de-criminalite-au-japon-linfaillible-securite-publique-en'}, {'source_url': 'https://www.lesoir.be/529022/article/2023-08-02/averses-intenses-rafales-de-vent-orage-lirm-lance-deux-alertes-jaunes'}, {'source_url': 'https://www.lesoir.be/529018/article/2023-08-02/guerre-en-ukraine-les-frappes-russes-sur-le-danube-ont-endommage-40000-tonnes-de'}, {'source_url': 'https://www.lesoir.be/529012/article/2023-08-02/intemperies-risque-de-tornades-et-de-violentes-rafales-de-vent'}, {'source_url': 'https://www.lesoir.be/529011/article/2023-08-02/lavenir-ne-sannonce-pas-radieux-linquietude-pour-sept-louveteaux-en-flandre'}, {'source_url': 'https://sosoir.lesoir.be/le-premier-festival-sur-leau-debarque-en-belgique'}, {'source_url': 'https://www.lesoir.be/529001/article/2023-08-02/coup-detat-au-niger-18-belges-ont-quitte-le-niger'}, {'source_url': 'http://soirmag.lesoir.be/528999/article/2023-08-02/quand-angele-fait-vibrer-ses-fans-sourds-et-malentendants-photos'}, {'source_url': 'https://www.lesoir.be/528993/article/2023-08-02/vladimir-poutine-et-recep-erdogan-en-desaccord-sur-lexportation-des-cereales'}, {'source_url': 'https://www.lesoir.be/528992/article/2023-08-02/flandre-une-jeune-maman-retrouvee-morte-son-domicile'}, {'source_url': 'https://www.lesoir.be/528991/article/2023-08-02/restez-vigilant-lavertissement-de-bnp-paribas-ses-clients'}, {'source_url': 'https://www.lesoir.be/528986/article/2023-08-02/bruno-tertrais-la-russie-pourrait-se-muer-en-une-gigantesque-coree-du-nord'}, {'source_url': 'https://sosoir.lesoir.be/un-nouveau-concept-culinaire-secret-debarque-bruxelles'}, {'source_url': 'https://belgium-iphone.lesoir.be/2023/08/01/le-fbi-espionnait-lui-aussi-des-milliers-diphone-grace-a-pegasus/'}, {'source_url': 'https://www.lesoir.be/528980/article/2023-08-02/le-logo-x-retire-du-toit-de-lex-twitter-san-francisco-photos'}, {'source_url': 'https://www.lesoir.be/528977/article/2023-08-02/vetements-pour-enfants-le-spf-economie-met-en-garde'}, {'source_url': 'http://soirmag.lesoir.be/528976/article/2023-08-02/genevieve-de-fontenay-en-quatre-phrases'}]\n"
     ]
    }
   ],
   "source": [
    "urls = []\n",
    "base_url = \"https://www.lesoir.be\"\n",
    "links = soup.select(\"h3 > a\")\n",
    "for link in links:\n",
    "    url = link.get('href')\n",
    "    dict = {'source_url': url if '//' in url else base_url + url }\n",
    "    urls.append(dict)   \n",
    "print(urls)\n"
   ]
  },
  {
   "cell_type": "code",
   "execution_count": 80,
   "metadata": {},
   "outputs": [
    {
     "data": {
      "text/html": [
       "<div>\n",
       "<style scoped>\n",
       "    .dataframe tbody tr th:only-of-type {\n",
       "        vertical-align: middle;\n",
       "    }\n",
       "\n",
       "    .dataframe tbody tr th {\n",
       "        vertical-align: top;\n",
       "    }\n",
       "\n",
       "    .dataframe thead th {\n",
       "        text-align: right;\n",
       "    }\n",
       "</style>\n",
       "<table border=\"1\" class=\"dataframe\">\n",
       "  <thead>\n",
       "    <tr style=\"text-align: right;\">\n",
       "      <th></th>\n",
       "      <th>source_url</th>\n",
       "    </tr>\n",
       "  </thead>\n",
       "  <tbody>\n",
       "    <tr>\n",
       "      <th>0</th>\n",
       "      <td>https://www.lesoir.be/529030/article/2023-08-0...</td>\n",
       "    </tr>\n",
       "    <tr>\n",
       "      <th>1</th>\n",
       "      <td>https://www.lesoir.be/529026/article/2023-08-0...</td>\n",
       "    </tr>\n",
       "    <tr>\n",
       "      <th>2</th>\n",
       "      <td>https://www.lesoir.be/529025/article/2023-08-0...</td>\n",
       "    </tr>\n",
       "    <tr>\n",
       "      <th>3</th>\n",
       "      <td>https://www.lesoir.be/529024/article/2023-08-0...</td>\n",
       "    </tr>\n",
       "    <tr>\n",
       "      <th>4</th>\n",
       "      <td>https://www.lesoir.be/529022/article/2023-08-0...</td>\n",
       "    </tr>\n",
       "    <tr>\n",
       "      <th>5</th>\n",
       "      <td>https://www.lesoir.be/529018/article/2023-08-0...</td>\n",
       "    </tr>\n",
       "    <tr>\n",
       "      <th>6</th>\n",
       "      <td>https://www.lesoir.be/529012/article/2023-08-0...</td>\n",
       "    </tr>\n",
       "    <tr>\n",
       "      <th>7</th>\n",
       "      <td>https://www.lesoir.be/529011/article/2023-08-0...</td>\n",
       "    </tr>\n",
       "    <tr>\n",
       "      <th>8</th>\n",
       "      <td>https://sosoir.lesoir.be/le-premier-festival-s...</td>\n",
       "    </tr>\n",
       "    <tr>\n",
       "      <th>9</th>\n",
       "      <td>https://www.lesoir.be/529001/article/2023-08-0...</td>\n",
       "    </tr>\n",
       "    <tr>\n",
       "      <th>10</th>\n",
       "      <td>http://soirmag.lesoir.be/528999/article/2023-0...</td>\n",
       "    </tr>\n",
       "    <tr>\n",
       "      <th>11</th>\n",
       "      <td>https://www.lesoir.be/528993/article/2023-08-0...</td>\n",
       "    </tr>\n",
       "    <tr>\n",
       "      <th>12</th>\n",
       "      <td>https://www.lesoir.be/528992/article/2023-08-0...</td>\n",
       "    </tr>\n",
       "    <tr>\n",
       "      <th>13</th>\n",
       "      <td>https://www.lesoir.be/528991/article/2023-08-0...</td>\n",
       "    </tr>\n",
       "    <tr>\n",
       "      <th>14</th>\n",
       "      <td>https://www.lesoir.be/528986/article/2023-08-0...</td>\n",
       "    </tr>\n",
       "    <tr>\n",
       "      <th>15</th>\n",
       "      <td>https://sosoir.lesoir.be/un-nouveau-concept-cu...</td>\n",
       "    </tr>\n",
       "    <tr>\n",
       "      <th>16</th>\n",
       "      <td>https://belgium-iphone.lesoir.be/2023/08/01/le...</td>\n",
       "    </tr>\n",
       "    <tr>\n",
       "      <th>17</th>\n",
       "      <td>https://www.lesoir.be/528980/article/2023-08-0...</td>\n",
       "    </tr>\n",
       "    <tr>\n",
       "      <th>18</th>\n",
       "      <td>https://www.lesoir.be/528977/article/2023-08-0...</td>\n",
       "    </tr>\n",
       "    <tr>\n",
       "      <th>19</th>\n",
       "      <td>http://soirmag.lesoir.be/528976/article/2023-0...</td>\n",
       "    </tr>\n",
       "  </tbody>\n",
       "</table>\n",
       "</div>"
      ],
      "text/plain": [
       "                                           source_url\n",
       "0   https://www.lesoir.be/529030/article/2023-08-0...\n",
       "1   https://www.lesoir.be/529026/article/2023-08-0...\n",
       "2   https://www.lesoir.be/529025/article/2023-08-0...\n",
       "3   https://www.lesoir.be/529024/article/2023-08-0...\n",
       "4   https://www.lesoir.be/529022/article/2023-08-0...\n",
       "5   https://www.lesoir.be/529018/article/2023-08-0...\n",
       "6   https://www.lesoir.be/529012/article/2023-08-0...\n",
       "7   https://www.lesoir.be/529011/article/2023-08-0...\n",
       "8   https://sosoir.lesoir.be/le-premier-festival-s...\n",
       "9   https://www.lesoir.be/529001/article/2023-08-0...\n",
       "10  http://soirmag.lesoir.be/528999/article/2023-0...\n",
       "11  https://www.lesoir.be/528993/article/2023-08-0...\n",
       "12  https://www.lesoir.be/528992/article/2023-08-0...\n",
       "13  https://www.lesoir.be/528991/article/2023-08-0...\n",
       "14  https://www.lesoir.be/528986/article/2023-08-0...\n",
       "15  https://sosoir.lesoir.be/un-nouveau-concept-cu...\n",
       "16  https://belgium-iphone.lesoir.be/2023/08/01/le...\n",
       "17  https://www.lesoir.be/528980/article/2023-08-0...\n",
       "18  https://www.lesoir.be/528977/article/2023-08-0...\n",
       "19  http://soirmag.lesoir.be/528976/article/2023-0..."
      ]
     },
     "execution_count": 80,
     "metadata": {},
     "output_type": "execute_result"
    }
   ],
   "source": [
    "df = pd.DataFrame(urls)\n",
    "df.head(20)"
   ]
  },
  {
   "cell_type": "code",
   "execution_count": 83,
   "metadata": {},
   "outputs": [
    {
     "data": {
      "text/plain": [
       "'https://www.lesoir.be/529030/article/2023-08-02/vetements-pour-enfants-dangereux-lavertissement-du-spf-economie'"
      ]
     },
     "execution_count": 83,
     "metadata": {},
     "output_type": "execute_result"
    }
   ],
   "source": [
    "url_one = df['source_url'][0]\n",
    "url_one"
   ]
  },
  {
   "cell_type": "code",
   "execution_count": 84,
   "metadata": {},
   "outputs": [
    {
     "name": "stdout",
     "output_type": "stream",
     "text": [
      "11\n",
      "<p><span class=\"drop-cap r-lettrine\">P</span>lus de trois quarts des vêtements pour enfants analysés lors d’une campagne de contrôle n’étaient pas conformes aux exigences de sécurité, rapporte le SPF Economie lundi. Sur les 40 vêtements d’enfants jusqu’à 14 ans soumis à un contrôle approfondi, 31 ne répondaient pas à ces exigences. Ils ont été retirés du marché.</p>\n",
      "<p><!-- scald=30345215:full {\"context\":\"full\",\"view_mode\":\"enacarbon_teaser_niveau_2_cipiz\",\"scald_mediacontext\":\"full\",\"dpiservices\":false,\"digiteka_dmp_targeting\":1} --> <r-embed class=\"r-embed--digiteka\"> <template class=\"dmp-digiteka-4ef4174b4883ba38b7bbf3eda12ce1d4\"> <iframe allowfullscreen=\"true\" class=\"lazy\" data-digiteka-sid=\"30345215\" data-src=\"https://www.ultimedia.com/deliver/generic/iframe/mdtk/01613302/zone/34/showtitle/1/src/qkvumrz/?tagparamdecoded=Business&amp;tagparam=cat%3Dbusiness\" frameborder=\"0\" height=\"400\" hspace=\"0\" marginheight=\"0\" marginwidth=\"0\" mozallowfullscreen=\"true\" referrerpolicy=\"no-referrer-when-downgrade\" scrolling=\"no\" style=\"z-index:1;\" title=\"Digiteka\" vspace=\"0\" webkitallowfullscreen=\"true\" width=\"100%\"> </iframe> </template> <script type=\"text/javascript\"> function get_dtkCxSegments() { if ('cxSegments' in localStorage) { /* Récupération de cxSegments + initialisation de variables destinées à en limiter la longueur */ let cx = localStorage.getItem(\"cxSegments\"), valueCx = cx.split(\",\"), valueCxLimited = [], charLength = 0, limit = 2000; /* Limitation de la longueur de la chaine de caractère */ for (var i = 0; i < valueCx.length; i++) { charLength = charLength + valueCx[i].length; if (charLength <= limit) { valueCxLimited.push(valueCx[i]); } } return valueCxLimited; } else { return false; } } var getCookie = name => { let nameEQ = name + \"=\"; let ca = document.cookie.split(';'); for (var i = 0; i < ca.length; i++) { var c = ca[i]; while (c.charAt(0) == ' ') c = c.substring(1, c.length); if (c.indexOf(nameEQ) == 0) return c.substring(nameEQ.length, c.length); } return null; }; window.getCookie = getCookie; window.dtkCxSegments = window.dtkCxSegments || get_dtkCxSegments(); var dtkEmbed = document.currentScript.parentNode; var dtkIframe = dtkEmbed.querySelector(\".dmp-digiteka-4ef4174b4883ba38b7bbf3eda12ce1d4\").content.cloneNode(true); dtkIframe = dtkIframe.querySelector('iframe'); var dtkUrl = new URL(dtkIframe.dataset.src); var cxUser = window.getCookie('cX_G'); var cxUserDecod = decodeURIComponent(cxUser); var tagparamValue = (dtkUrl.searchParams.get(\"tagparam\")) ? dtkUrl.searchParams.get(\"tagparam\") + \"&CxSegments=\" + window.dtkCxSegments + \"&cX_G=\" + cxUserDecod : \"CxSegments=\" + window.dtkCxSegments + \"&cX_G=\" + cxUserDecod; if (window.dtkCxSegments) dtkUrl.searchParams.set('tagparam', tagparamValue); dtkIframe.dataset.src = dtkUrl.toString(); dtkEmbed.appendChild(dtkIframe); </script></r-embed> <!-- END scald=30345215 --></p>\n",
      "<p>Le SPF Économie a mené cette campagne de contrôle en 2021 et 2022 afin de vérifier la conformité et la sécurité des vêtements pour enfants présents sur le marché belge. Le service public rappelle que les cordons ou liens de serrage de vêtements d’enfants ont été impliqués dans des accidents mortels en Europe et ailleurs. Ils peuvent se coincer dans des équipements d’aires de jeux, comme des toboggans, ou des véhicules en mouvement (portes d’autobus, remontées mécaniques et vélos).</p>\n",
      "<p>Selon les résultats de ce contrôle approfondi, des sweats à capuche, des shorts, des pantalons mais aussi des robes et un pyjama présentaient un danger pour les enfants. Des mesures correctives ont été demandées et la plupart des opérateurs économiques concernés ont pris les mesures nécessaires, rapporte le SPF Économie.</p>\n",
      "<p><!-- scald=30345216:full {\"context\":\"full\",\"view_mode\":\"enacarbon_teaser_niveau_2_cipiz\",\"scald_mediacontext\":\"full\",\"dpiservices\":false} --> <r-embed class=\"r-embed--rtl\"> <template class=\"lazy\"> <script async=\"async\" src=\"https://www.rtl.be/videos/player/vp_embed.js\" type=\"text/javascript\" videoid=\"853289\"></script> </template>\n",
      "</r-embed>\n",
      "<!-- END scald=30345216 --></p>\n",
      "<p>« Il convient par ailleurs de rassurer les parents en précisant que les résultats de cette campagne ne reflètent pas la situation de l’ensemble du marché belge des vêtements d’enfants », souligne Etienne Mignolet, porte-parole SPF Économie. « Pour cette campagne, les agents du SPF Économie recherchaient en effet sur le marché belge spécifiquement des produits non conformes et potentiellement dangereux. »</p>\n",
      "<p>Le service public appelle les parents à être attentifs en achetant des vêtements, notamment pour les cordons et cordelettes qui peuvent entraîner un risque de strangulation ou de coincement.</p>\n",
      "<p> </p>\n",
      "<p>Pour poster un commentaire, merci de vous abonner.</p>\n",
      "<p>Inscrivez-vous aux newsletters</p>\n",
      "<p class=\"r-footer--copyright\">\n",
      "<img alt=\"CIM\" class=\"r-footer--cim lazy\" data-src=\"/sites/all/themes/enacarbon_lesoir/images/cim.svg\" width=\"75\"/>\n",
      "<img alt=\"Source Sûre\" class=\"r-footer--source-sure lazy\" data-src=\"/sites/all/themes/enacarbon_lesoir/images/source-sure.png\"/>\n",
      "© Rossel &amp; Cie - 2023<br/>\n",
      "<a href=\"https://www.rossel.be/mentions-legales/rossel-cie-2/cgv-3/\">Conditions générales d’utilisation</a> - <a href=\"https://www.rossel.be/mentions-legales/rossel-cie-2/cgv-3/\">Conditions générales de vente</a> - <a data-google-interstitial=\"false\" href=\"https://www.rossel.be/mentions-legales/cookies-1/\">Politique de cookies</a> - <a href=\"https://www.rossel.be/mentions-legales/politique-protection-vie-privee-1/\">Politique de Protection Vie privée</a> - <a href=\"https://content.sudinfo.be/tools/charte_effacement_fins_journ.pdf\">Charte des médias</a> - <a href=\"https://www.rossel.be/mentions-legales/droits-reproduction-1/\">Droits de reproduction</a>\n",
      "</p>\n"
     ]
    }
   ],
   "source": [
    "response_2 = requests.get(url_one)\n",
    "soup2 = bs(response_2.content, 'html.parser')\n",
    "paragraphs = soup2.find_all('p')\n",
    "print(len(paragraphs))\n",
    "for paragrapg in paragraphs:\n",
    "    print(paragrapg)\n"
   ]
  },
  {
   "cell_type": "code",
   "execution_count": 34,
   "metadata": {},
   "outputs": [],
   "source": [
    "def find_article_title(url: str) -> str:\n",
    "    response = requests.get(url)\n",
    "    soup = bs(response.content, \"html.parser\")\n",
    "    article_title = soup.find(\"h1\").text\n",
    "    return article_title"
   ]
  },
  {
   "cell_type": "code",
   "execution_count": 35,
   "metadata": {},
   "outputs": [],
   "source": [
    "def find_article_text(url: str) -> str:\n",
    "    response = requests.get(url)\n",
    "    soup = bs(response.content, \"html.parser\")\n",
    "    article_text = \"\".join([p.text.strip('\\n') for p in soup.find_all('p')])\n",
    "    return article_text"
   ]
  },
  {
   "cell_type": "code",
   "execution_count": 36,
   "metadata": {},
   "outputs": [],
   "source": [
    "def find_published_date(url:str) -> str:\n",
    "    response = requests.get(url)\n",
    "    soup = bs(response.content, \"html.parser\")\n",
    "    script = soup.find('script', {\"type\": \"application/ld+json\"})\n",
    "    data = json.loads(script.text, strict=False)\n",
    "    try:\n",
    "        published_date = data['@graph'][0]['datePublished']\n",
    "    except:\n",
    "        published_date = data['datePublished']    \n",
    "    return published_date"
   ]
  },
  {
   "cell_type": "code",
   "execution_count": 37,
   "metadata": {},
   "outputs": [],
   "source": [
    "df['article_title'] = df['source_url'].apply(find_article_title)"
   ]
  },
  {
   "cell_type": "code",
   "execution_count": 38,
   "metadata": {},
   "outputs": [],
   "source": [
    "df['article_text'] = df['source_url'].apply(find_article_text)"
   ]
  },
  {
   "cell_type": "code",
   "execution_count": 39,
   "metadata": {},
   "outputs": [],
   "source": [
    "df['date'] = df['source_url'].apply(find_published_date)"
   ]
  },
  {
   "cell_type": "code",
   "execution_count": 40,
   "metadata": {},
   "outputs": [],
   "source": [
    "df['language'] = 'fr'"
   ]
  },
  {
   "cell_type": "code",
   "execution_count": 42,
   "metadata": {},
   "outputs": [
    {
     "data": {
      "text/html": [
       "<div>\n",
       "<style scoped>\n",
       "    .dataframe tbody tr th:only-of-type {\n",
       "        vertical-align: middle;\n",
       "    }\n",
       "\n",
       "    .dataframe tbody tr th {\n",
       "        vertical-align: top;\n",
       "    }\n",
       "\n",
       "    .dataframe thead th {\n",
       "        text-align: right;\n",
       "    }\n",
       "</style>\n",
       "<table border=\"1\" class=\"dataframe\">\n",
       "  <thead>\n",
       "    <tr style=\"text-align: right;\">\n",
       "      <th></th>\n",
       "      <th>source_url</th>\n",
       "      <th>article_title</th>\n",
       "      <th>article_text</th>\n",
       "      <th>date</th>\n",
       "      <th>language</th>\n",
       "    </tr>\n",
       "  </thead>\n",
       "  <tbody>\n",
       "    <tr>\n",
       "      <th>0</th>\n",
       "      <td>https://www.lesoir.be/529026/article/2023-08-0...</td>\n",
       "      <td>Vol avec violences : la police lance un avis d...</td>\n",
       "      <td>Le samedi 15 juillet 2023 entre 18h40 et 19h00...</td>\n",
       "      <td>2023-08-02T15:57:51+02:00</td>\n",
       "      <td>fr</td>\n",
       "    </tr>\n",
       "    <tr>\n",
       "      <th>1</th>\n",
       "      <td>https://www.lesoir.be/529025/article/2023-08-0...</td>\n",
       "      <td>Près d’une tonne de cocaïne saisie et cinq arr...</td>\n",
       "      <td>Cinq personnes ont été arrêtées lundi dans un ...</td>\n",
       "      <td>2023-08-02T15:48:50+02:00</td>\n",
       "      <td>fr</td>\n",
       "    </tr>\n",
       "    <tr>\n",
       "      <th>2</th>\n",
       "      <td>https://www.lesoir.be/529024/article/2023-08-0...</td>\n",
       "      <td>Explosion du taux de criminalité au Japon : l’...</td>\n",
       "      <td>Correspondant à Tokyo.Lundi, le tribunal de To...</td>\n",
       "      <td>2023-08-02T15:48:36+02:00</td>\n",
       "      <td>fr</td>\n",
       "    </tr>\n",
       "    <tr>\n",
       "      <th>3</th>\n",
       "      <td>https://www.lesoir.be/529022/article/2023-08-0...</td>\n",
       "      <td>« Averses intenses », « rafales de vent », « o...</td>\n",
       "      <td>Ce mercredi 2 août et jeudi 3 août, l’IRM décl...</td>\n",
       "      <td>2023-08-02T15:45:38+02:00</td>\n",
       "      <td>fr</td>\n",
       "    </tr>\n",
       "    <tr>\n",
       "      <th>4</th>\n",
       "      <td>https://www.lesoir.be/529018/article/2023-08-0...</td>\n",
       "      <td>Guerre en Ukraine : les frappes russes sur le ...</td>\n",
       "      <td>Les frappes russes qui ont visé mercredi matin...</td>\n",
       "      <td>2023-08-02T15:32:27+02:00</td>\n",
       "      <td>fr</td>\n",
       "    </tr>\n",
       "  </tbody>\n",
       "</table>\n",
       "</div>"
      ],
      "text/plain": [
       "                                          source_url  \\\n",
       "0  https://www.lesoir.be/529026/article/2023-08-0...   \n",
       "1  https://www.lesoir.be/529025/article/2023-08-0...   \n",
       "2  https://www.lesoir.be/529024/article/2023-08-0...   \n",
       "3  https://www.lesoir.be/529022/article/2023-08-0...   \n",
       "4  https://www.lesoir.be/529018/article/2023-08-0...   \n",
       "\n",
       "                                       article_title  \\\n",
       "0  Vol avec violences : la police lance un avis d...   \n",
       "1  Près d’une tonne de cocaïne saisie et cinq arr...   \n",
       "2  Explosion du taux de criminalité au Japon : l’...   \n",
       "3  « Averses intenses », « rafales de vent », « o...   \n",
       "4  Guerre en Ukraine : les frappes russes sur le ...   \n",
       "\n",
       "                                        article_text  \\\n",
       "0  Le samedi 15 juillet 2023 entre 18h40 et 19h00...   \n",
       "1  Cinq personnes ont été arrêtées lundi dans un ...   \n",
       "2  Correspondant à Tokyo.Lundi, le tribunal de To...   \n",
       "3  Ce mercredi 2 août et jeudi 3 août, l’IRM décl...   \n",
       "4  Les frappes russes qui ont visé mercredi matin...   \n",
       "\n",
       "                        date language  \n",
       "0  2023-08-02T15:57:51+02:00       fr  \n",
       "1  2023-08-02T15:48:50+02:00       fr  \n",
       "2  2023-08-02T15:48:36+02:00       fr  \n",
       "3  2023-08-02T15:45:38+02:00       fr  \n",
       "4  2023-08-02T15:32:27+02:00       fr  "
      ]
     },
     "execution_count": 42,
     "metadata": {},
     "output_type": "execute_result"
    }
   ],
   "source": [
    "df.head()"
   ]
  },
  {
   "cell_type": "code",
   "execution_count": 43,
   "metadata": {},
   "outputs": [],
   "source": [
    "df.to_csv('data.lesoir_articles.csv')"
   ]
  }
 ],
 "metadata": {
  "kernelspec": {
   "display_name": "env",
   "language": "python",
   "name": "python3"
  },
  "language_info": {
   "codemirror_mode": {
    "name": "ipython",
    "version": 3
   },
   "file_extension": ".py",
   "mimetype": "text/x-python",
   "name": "python",
   "nbconvert_exporter": "python",
   "pygments_lexer": "ipython3",
   "version": "3.11.3"
  },
  "orig_nbformat": 4
 },
 "nbformat": 4,
 "nbformat_minor": 2
}
